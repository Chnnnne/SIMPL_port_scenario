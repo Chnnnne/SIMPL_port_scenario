{
 "cells": [
  {
   "cell_type": "code",
   "execution_count": 3,
   "metadata": {},
   "outputs": [
    {
     "data": {
      "text/plain": [
       "(10.0, -4.999999999999999)"
      ]
     },
     "execution_count": 3,
     "metadata": {},
     "output_type": "execute_result"
    }
   ],
   "source": [
    "import numpy as np\n",
    "from math import cos,sin\n",
    "# 假设的vec向量和target目标点坐标\n",
    "v_x, v_y = 3, 4\n",
    "x, y = 10, 5\n",
    "\n",
    "# 计算旋转角度（负值，因为我们是要将坐标系旋转到与vec一致，即相反方向）\n",
    "theta = -np.arctan2(v_y, v_x)\n",
    "\n",
    "# 构建旋转矩阵\n",
    "rot_matrix = [\n",
    "    [cos(theta), -sin(theta)],\n",
    "    [sin(theta), cos(theta)]\n",
    "]\n",
    "\n",
    "# 应用旋转矩阵变换目标点\n",
    "x_rotated, y_rotated = np.dot(rot_matrix, [x, y])\n",
    "\n",
    "x_rotated, y_rotated\n"
   ]
  },
  {
   "cell_type": "code",
   "execution_count": 2,
   "metadata": {},
   "outputs": [
    {
     "name": "stdout",
     "output_type": "stream",
     "text": [
      "torch.Size([1, 3, 48, 48])\n"
     ]
    }
   ],
   "source": [
    "import torch\n",
    "import torch.nn.functional as F\n",
    "\n",
    "# 假设 input 是一个形状为 [1, 3, 24, 24] 的张量，代表一批中只有一张 24x24 的 RGB 图像\n",
    "input = torch.randn(1, 3, 24, 24)\n",
    "\n",
    "# 将图像的高度和宽度分别增加到 48x48\n",
    "# 将图像的大小增加两倍\n",
    "output = F.interpolate(input, scale_factor=2, mode='bilinear', align_corners=False)\n",
    "# output = F.interpolate(input, size=(48, 48), mode='bilinear', align_corners=False)\n",
    "print(output.shape)"
   ]
  },
  {
   "cell_type": "code",
   "execution_count": 2,
   "metadata": {},
   "outputs": [
    {
     "name": "stdout",
     "output_type": "stream",
     "text": [
      "tensor([1, 2, 3, 4])\n",
      "tensor([1, 1, 1])\n"
     ]
    }
   ],
   "source": [
    "import torch\n",
    "\n",
    "# 创建一个一维张量\n",
    "x = torch.tensor([1, 2, 4, 7, 11])\n",
    "\n",
    "# 计算一阶差分\n",
    "dx = torch.diff(x)\n",
    "\n",
    "print(dx)\n",
    "\n",
    "dx = torch.diff(x, n = 2)\n",
    "\n",
    "print(dx)\n"
   ]
  },
  {
   "cell_type": "code",
   "execution_count": 19,
   "metadata": {},
   "outputs": [
    {
     "data": {
      "text/plain": [
       "torch.Size([8, 20, 3])"
      ]
     },
     "execution_count": 19,
     "metadata": {},
     "output_type": "execute_result"
    }
   ],
   "source": [
    "import torch\n",
    "a = torch.arange(8*20*2).view(8,20,2)\n",
    "b = torch.arange(8*20*1).view(8,20,1)\n",
    "torch.cat([a,b], dim=2).shape\n",
    "torch.cat()"
   ]
  },
  {
   "cell_type": "code",
   "execution_count": 3,
   "metadata": {},
   "outputs": [
    {
     "name": "stdout",
     "output_type": "stream",
     "text": [
      "POINT (3.181980515339464 3.181980515339464)\n"
     ]
    },
    {
     "data": {
      "text/plain": [
       "4.500027555471188"
      ]
     },
     "execution_count": 3,
     "metadata": {},
     "output_type": "execute_result"
    }
   ],
   "source": [
    "from shapely.geometry import LineString\n",
    "import math\n",
    "import numpy as np\n",
    "# 创建一个 LineString 对象\n",
    "line = LineString([(0, 0), (2, 2), (6, 6)])\n",
    "\n",
    "# 在 LineString 上根据指定距离插值\n",
    "point_at_distance = line.interpolate(4.5)\n",
    "\n",
    "print(point_at_distance)\n",
    "np.linalg.norm((3.1820,3.1820),ord=2)"
   ]
  },
  {
   "cell_type": "code",
   "execution_count": 4,
   "metadata": {},
   "outputs": [
    {
     "data": {
      "text/plain": [
       "{('00000000-0000-0000-0000-000000000000', 'AV'): [0, 8, 16, 25, 36, 48, 59, 71, 85, 100, 115, 131, 146, 161, 174, 187, 201, 215, 229, 244, 259, 273, 285, 296, 305, 314, 322, 329, 335, 341, 346, 352, 358, 366, 375, 385, 394, 401, 407, 412, 418, 424, 431, 437, 443, 449, 453, 457, 462, 466], ('00000000-0000-0000-0000-000000189446', 'OTHERS'): [7, 14, 17, 26, 37, 49, 60, 72, 86, 101, 116, 132, 147, 162, 175, 188, 202, 216, 230, 245, 260, 274, 286, 297, 306, 315, 323, 332, 336, 343, 347, 353, 362, 369, 379, 390, 397, 402, 408, 413, 419, 425, 432, 438, 444, 450, 454, 458, 464, 468], ('00000000-0000-0000-0000-000000189649', 'OTHERS'): [1, 9, 18, 27, 38, 50, 61, 73, 87, 102, 117, 137, 152, 167, 186, 200, 203, 217, 231, 246, 261, 275, 287, 298, 307, 316, 324, 333, 338, 342, 348, 354, 359, 367, 376, 386, 395, 403], ('00000000-0000-0000-0000-000000189661', 'AGENT'): [4, 15, 19, 28, 39, 51, 62, 74, 88, 103, 118, 133, 148, 163, 185, 199, 204, 218, 232, 247, 262, 276, 288, 299, 308, 317, 325, 330, 340, 344, 350, 355, 363, 371, 381, 391, 398, 405, 409, 416, 422, 428, 434, 439, 446, 452, 456, 460, 463, 467], ('00000000-0000-0000-0000-000000189667', 'OTHERS'): [192, 210, 224, 239, 254, 269, 283, 292], ('00000000-0000-0000-0000-000000189670', 'OTHERS'): [2, 13, 20, 29, 44, 56, 67, 82, 97, 112, 128, 143, 153, 169, 180, 194, 207, 221, 235, 250, 263, 277, 289, 302, 313], ('00000000-0000-0000-0000-000000189674', 'OTHERS'): [3, 10, 24, 35, 47, 58, 70, 76, 94, 109, 124, 135, 150, 165, 177, 191, 211, 225, 240, 255, 270, 284, 293, 304, 309, 319, 327], ('00000000-0000-0000-0000-000000189681', 'OTHERS'): [6, 11, 23, 34, 46], ('00000000-0000-0000-0000-000000189682', 'OTHERS'): [12, 22, 32, 42, 54, 64, 78, 91, 106, 122, 139, 156], ('00000000-0000-0000-0000-000000189683', 'OTHERS'): [21, 30, 43, 55, 66, 80, 95, 110, 126, 141, 160, 173, 184, 198, 205, 219, 233, 248, 264, 278, 294], ('00000000-0000-0000-0000-000000189685', 'OTHERS'): [69, 84, 99, 114, 130, 145, 159, 172, 183, 197, 206, 220, 234, 249, 265], ('00000000-0000-0000-0000-000000189686', 'OTHERS'): [5], ('00000000-0000-0000-0000-000000189689', 'OTHERS'): [81, 96, 111, 127, 142, 154, 168, 179, 193, 208, 222, 236, 251], ('00000000-0000-0000-0000-000000189691', 'OTHERS'): [33, 45, 57, 68, 83, 98, 113, 129, 144, 158], ('00000000-0000-0000-0000-000000189693', 'OTHERS'): [41, 53, 63, 77, 90, 105, 121, 138, 155, 170, 181, 195, 214, 228, 243, 258, 272, 280], ('00000000-0000-0000-0000-000000189694', 'OTHERS'): [31, 40, 52, 65, 79, 89, 104, 125, 140, 157, 171, 182, 196, 209, 223, 238, 253, 267, 279, 295, 303, 312], ('00000000-0000-0000-0000-000000189696', 'OTHERS'): [75, 92, 107, 119], ('00000000-0000-0000-0000-000000189698', 'OTHERS'): [120, 136, 151, 166, 178, 189, 213, 227, 242, 257, 268, 282, 291, 301], ('00000000-0000-0000-0000-000000189700', 'OTHERS'): [93, 108, 123, 134, 149, 164, 176, 190, 212, 226, 241, 256, 271], ('00000000-0000-0000-0000-000000189705', 'OTHERS'): [237, 252, 266, 281], ('00000000-0000-0000-0000-000000189712', 'OTHERS'): [310, 320, 328, 331, 339, 345, 349, 356, 364, 373, 383, 387, 396, 404, 410, 414, 420, 426, 433, 441, 447], ('00000000-0000-0000-0000-000000189713', 'OTHERS'): [290, 300, 311, 321], ('00000000-0000-0000-0000-000000189716', 'OTHERS'): [318, 326, 334, 337], ('00000000-0000-0000-0000-000000189718', 'OTHERS'): [351, 357, 360], ('00000000-0000-0000-0000-000000189719', 'OTHERS'): [377, 388, 406, 411, 415, 421, 429, 451, 455, 459, 465, 469], ('00000000-0000-0000-0000-000000189720', 'OTHERS'): [361, 368, 378, 389], ('00000000-0000-0000-0000-000000189722', 'OTHERS'): [365, 374, 384, 393, 400], ('00000000-0000-0000-0000-000000189724', 'OTHERS'): [372, 382, 392, 399], ('00000000-0000-0000-0000-000000189726', 'OTHERS'): [370, 380], ('00000000-0000-0000-0000-000000189731', 'OTHERS'): [427, 435, 440, 445], ('00000000-0000-0000-0000-000000189734', 'OTHERS'): [417, 423, 430, 436, 442, 448], ('00000000-0000-0000-0000-000000189742', 'OTHERS'): [461]}"
      ]
     },
     "execution_count": 4,
     "metadata": {},
     "output_type": "execute_result"
    }
   ],
   "source": [
    "import pandas as pd\n",
    "df = pd.read_csv('/data/wangchen/dataset/argo/val/data/1.csv')\n",
    "df.groupby(['TRACK_ID', 'OBJECT_TYPE']).groups"
   ]
  },
  {
   "cell_type": "markdown",
   "metadata": {},
   "source": [
    "### 经过preprocess之后的feature pkl结构"
   ]
  },
  {
   "cell_type": "code",
   "execution_count": 1,
   "metadata": {},
   "outputs": [
    {
     "name": "stdout",
     "output_type": "stream",
     "text": [
      "<class 'pandas.core.frame.DataFrame'>\n"
     ]
    }
   ],
   "source": [
    "import pickle\n",
    "with open(\"/data/wangchen/SIMPL/data_argo/features/val/1.pkl\", 'rb') as f:\n",
    "    data = pickle.load(f)\n",
    "    print(type(data))\n",
    "    "
   ]
  },
  {
   "cell_type": "code",
   "execution_count": 2,
   "metadata": {},
   "outputs": [
    {
     "data": {
      "text/html": [
       "<div>\n",
       "<style scoped>\n",
       "    .dataframe tbody tr th:only-of-type {\n",
       "        vertical-align: middle;\n",
       "    }\n",
       "\n",
       "    .dataframe tbody tr th {\n",
       "        vertical-align: top;\n",
       "    }\n",
       "\n",
       "    .dataframe thead th {\n",
       "        text-align: right;\n",
       "    }\n",
       "</style>\n",
       "<table border=\"1\" class=\"dataframe\">\n",
       "  <thead>\n",
       "    <tr style=\"text-align: right;\">\n",
       "      <th></th>\n",
       "      <th>SEQ_ID</th>\n",
       "      <th>CITY_NAME</th>\n",
       "      <th>ORIG</th>\n",
       "      <th>ROT</th>\n",
       "      <th>TIMESTAMP</th>\n",
       "      <th>TRAJS</th>\n",
       "      <th>TRAJS_CTRS</th>\n",
       "      <th>TRAJS_VECS</th>\n",
       "      <th>PAD_FLAGS</th>\n",
       "      <th>LANE_GRAPH</th>\n",
       "    </tr>\n",
       "  </thead>\n",
       "  <tbody>\n",
       "    <tr>\n",
       "      <th>0</th>\n",
       "      <td>1</td>\n",
       "      <td>PIT</td>\n",
       "      <td>[1774.185, 390.52426]</td>\n",
       "      <td>[[0.763196, -0.6461671], [0.6461671, 0.763196]]</td>\n",
       "      <td>[0.0, 0.10130906, 0.2013238, 0.30182153, 0.404...</td>\n",
       "      <td>[[[-10.531179, 0.0], [-9.919388, -0.009070396]...</td>\n",
       "      <td>[[0.0, 0.0], [3.5342479, 5.774828], [35.09165,...</td>\n",
       "      <td>[[1.0, 0.0], [-0.9999814, 0.006099099], [-0.99...</td>\n",
       "      <td>[[1, 1, 1, 1, 1, 1, 1, 1, 1, 1, 1, 1, 1, 1, 1,...</td>\n",
       "      <td>{'node_ctrs': [[[-6.4954567 -1.571598 ], [-5.1...</td>\n",
       "    </tr>\n",
       "  </tbody>\n",
       "</table>\n",
       "</div>"
      ],
      "text/plain": [
       "   SEQ_ID CITY_NAME                   ORIG  \\\n",
       "0       1       PIT  [1774.185, 390.52426]   \n",
       "\n",
       "                                               ROT  \\\n",
       "0  [[0.763196, -0.6461671], [0.6461671, 0.763196]]   \n",
       "\n",
       "                                           TIMESTAMP  \\\n",
       "0  [0.0, 0.10130906, 0.2013238, 0.30182153, 0.404...   \n",
       "\n",
       "                                               TRAJS  \\\n",
       "0  [[[-10.531179, 0.0], [-9.919388, -0.009070396]...   \n",
       "\n",
       "                                          TRAJS_CTRS  \\\n",
       "0  [[0.0, 0.0], [3.5342479, 5.774828], [35.09165,...   \n",
       "\n",
       "                                          TRAJS_VECS  \\\n",
       "0  [[1.0, 0.0], [-0.9999814, 0.006099099], [-0.99...   \n",
       "\n",
       "                                           PAD_FLAGS  \\\n",
       "0  [[1, 1, 1, 1, 1, 1, 1, 1, 1, 1, 1, 1, 1, 1, 1,...   \n",
       "\n",
       "                                          LANE_GRAPH  \n",
       "0  {'node_ctrs': [[[-6.4954567 -1.571598 ], [-5.1...  "
      ]
     },
     "execution_count": 2,
     "metadata": {},
     "output_type": "execute_result"
    }
   ],
   "source": [
    "data"
   ]
  },
  {
   "cell_type": "code",
   "execution_count": 3,
   "metadata": {},
   "outputs": [
    {
     "data": {
      "text/plain": [
       "array([[ 0.763196 , -0.6461671],\n",
       "       [ 0.6461671,  0.763196 ]], dtype=float32)"
      ]
     },
     "execution_count": 3,
     "metadata": {},
     "output_type": "execute_result"
    }
   ],
   "source": [
    "data.loc[0,'ROT']"
   ]
  },
  {
   "cell_type": "code",
   "execution_count": 4,
   "metadata": {},
   "outputs": [
    {
     "data": {
      "text/plain": [
       "array([0.        , 0.10130906, 0.2013238 , 0.30182153, 0.404795  ,\n",
       "       0.50286627, 0.6027162 , 0.70522726, 0.8068577 , 0.9042282 ,\n",
       "       1.0040736 , 1.1045349 , 1.2087593 , 1.3070736 , 1.4046686 ,\n",
       "       1.5037879 , 1.6074322 , 1.701994  , 1.8037946 , 1.9046421 ,\n",
       "       1.9997149 , 2.1024604 , 2.1974428 , 2.3007045 , 2.3987706 ,\n",
       "       2.4967506 , 2.5984778 , 2.6977046 , 2.7991128 , 2.8962455 ,\n",
       "       2.9967537 , 3.0976777 , 3.1959357 , 3.2967925 , 3.3963404 ,\n",
       "       3.4933097 , 3.6000366 , 3.6982973 , 3.795776  , 3.9012353 ,\n",
       "       4.0016856 , 4.0989585 , 4.1939073 , 4.296197  , 4.3989387 ,\n",
       "       4.4984493 , 4.5971093 , 4.696355  , 4.8004627 , 4.897036  ],\n",
       "      dtype=float32)"
      ]
     },
     "execution_count": 4,
     "metadata": {},
     "output_type": "execute_result"
    }
   ],
   "source": [
    "data.loc[0,'TIMESTAMP']"
   ]
  },
  {
   "cell_type": "code",
   "execution_count": 17,
   "metadata": {},
   "outputs": [
    {
     "data": {
      "text/plain": [
       "array([[-7.5461608e-01, -5.1105076e-10],\n",
       "       [-7.5461608e-01, -5.1105076e-10],\n",
       "       [-7.5461608e-01, -5.1105076e-10],\n",
       "       [-7.5461608e-01, -5.1105076e-10],\n",
       "       [-7.5461608e-01, -5.1105076e-10],\n",
       "       [-7.5461608e-01, -5.1105076e-10],\n",
       "       [-7.5461608e-01, -5.1105076e-10],\n",
       "       [-7.5461608e-01, -5.1105076e-10],\n",
       "       [-7.5461608e-01, -5.1105076e-10],\n",
       "       [-7.5461608e-01, -5.1105076e-10],\n",
       "       [-7.5461608e-01, -5.1105076e-10],\n",
       "       [-7.5461608e-01, -5.1105076e-10],\n",
       "       [-7.5461608e-01, -5.1105076e-10],\n",
       "       [-7.5461608e-01, -5.1105076e-10],\n",
       "       [-7.5461608e-01, -5.1105076e-10],\n",
       "       [-7.5461608e-01, -5.1105076e-10],\n",
       "       [-9.9777108e-01, -2.5467498e-03],\n",
       "       [ 2.6405776e-01,  1.5715027e-02],\n",
       "       [ 2.6405776e-01,  1.5715027e-02],\n",
       "       [ 0.0000000e+00,  0.0000000e+00],\n",
       "       [ 0.0000000e+00,  0.0000000e+00],\n",
       "       [ 0.0000000e+00,  0.0000000e+00],\n",
       "       [ 0.0000000e+00,  0.0000000e+00],\n",
       "       [ 0.0000000e+00,  0.0000000e+00],\n",
       "       [ 0.0000000e+00,  0.0000000e+00],\n",
       "       [ 0.0000000e+00,  0.0000000e+00],\n",
       "       [ 0.0000000e+00,  0.0000000e+00],\n",
       "       [ 0.0000000e+00,  0.0000000e+00],\n",
       "       [ 0.0000000e+00,  0.0000000e+00],\n",
       "       [ 0.0000000e+00,  0.0000000e+00],\n",
       "       [ 0.0000000e+00,  0.0000000e+00],\n",
       "       [ 0.0000000e+00,  0.0000000e+00],\n",
       "       [ 0.0000000e+00,  0.0000000e+00],\n",
       "       [ 0.0000000e+00,  0.0000000e+00],\n",
       "       [ 0.0000000e+00,  0.0000000e+00],\n",
       "       [ 0.0000000e+00,  0.0000000e+00],\n",
       "       [ 0.0000000e+00,  0.0000000e+00],\n",
       "       [ 0.0000000e+00,  0.0000000e+00],\n",
       "       [ 0.0000000e+00,  0.0000000e+00],\n",
       "       [ 0.0000000e+00,  0.0000000e+00],\n",
       "       [ 0.0000000e+00,  0.0000000e+00],\n",
       "       [ 0.0000000e+00,  0.0000000e+00],\n",
       "       [ 0.0000000e+00,  0.0000000e+00],\n",
       "       [ 0.0000000e+00,  0.0000000e+00],\n",
       "       [ 0.0000000e+00,  0.0000000e+00],\n",
       "       [ 0.0000000e+00,  0.0000000e+00],\n",
       "       [ 0.0000000e+00,  0.0000000e+00],\n",
       "       [ 0.0000000e+00,  0.0000000e+00],\n",
       "       [ 0.0000000e+00,  0.0000000e+00],\n",
       "       [ 0.0000000e+00,  0.0000000e+00]], dtype=float32)"
      ]
     },
     "execution_count": 17,
     "metadata": {},
     "output_type": "execute_result"
    }
   ],
   "source": [
    "data.loc[0,'TRAJS'][4,:,:]\n"
   ]
  },
  {
   "cell_type": "code",
   "execution_count": 7,
   "metadata": {},
   "outputs": [
    {
     "data": {
      "text/plain": [
       "(14, 2)"
      ]
     },
     "execution_count": 7,
     "metadata": {},
     "output_type": "execute_result"
    }
   ],
   "source": [
    "data.loc[0,'TRAJS_CTRS'].shape\n"
   ]
  },
  {
   "cell_type": "code",
   "execution_count": 8,
   "metadata": {},
   "outputs": [
    {
     "data": {
      "text/plain": [
       "(14, 2)"
      ]
     },
     "execution_count": 8,
     "metadata": {},
     "output_type": "execute_result"
    }
   ],
   "source": [
    "data.loc[0,'TRAJS_VECS'].shape\n"
   ]
  },
  {
   "cell_type": "code",
   "execution_count": 13,
   "metadata": {},
   "outputs": [
    {
     "data": {
      "text/plain": [
       "array([[1, 1, 1, 1, 1, 1, 1, 1, 1, 1, 1, 1, 1, 1, 1, 1, 1, 1, 1, 1, 1, 1,\n",
       "        1, 1, 1, 1, 1, 1, 1, 1, 1, 1, 1, 1, 1, 1, 1, 1, 1, 1, 1, 1, 1, 1,\n",
       "        1, 1, 1, 1, 1, 1],\n",
       "       [1, 1, 1, 1, 1, 1, 1, 1, 1, 1, 1, 1, 1, 1, 1, 1, 1, 1, 1, 1, 1, 1,\n",
       "        1, 1, 1, 1, 1, 1, 1, 1, 1, 1, 1, 1, 1, 1, 1, 1, 1, 1, 1, 1, 1, 1,\n",
       "        1, 1, 1, 1, 1, 1],\n",
       "       [1, 1, 1, 1, 1, 1, 1, 1, 1, 1, 1, 1, 1, 1, 1, 1, 1, 1, 1, 1, 1, 1,\n",
       "        1, 1, 1, 1, 1, 1, 1, 1, 1, 1, 1, 1, 1, 1, 1, 1, 1, 1, 1, 1, 1, 1,\n",
       "        1, 1, 1, 1, 1, 1],\n",
       "       [1, 1, 1, 1, 1, 1, 1, 1, 1, 1, 1, 1, 1, 1, 1, 1, 1, 1, 1, 1, 1, 1,\n",
       "        1, 1, 1, 1, 1, 1, 1, 1, 1, 1, 1, 1, 1, 1, 1, 1, 0, 0, 0, 0, 0, 0,\n",
       "        0, 0, 0, 0, 0, 0],\n",
       "       [0, 0, 0, 0, 0, 0, 0, 0, 0, 0, 0, 0, 0, 0, 0, 1, 1, 1, 1, 1, 1, 1,\n",
       "        1, 0, 0, 0, 0, 0, 0, 0, 0, 0, 0, 0, 0, 0, 0, 0, 0, 0, 0, 0, 0, 0,\n",
       "        0, 0, 0, 0, 0, 0],\n",
       "       [1, 1, 1, 1, 1, 1, 1, 1, 1, 1, 1, 1, 1, 1, 1, 1, 1, 1, 1, 1, 1, 1,\n",
       "        1, 1, 1, 0, 0, 0, 0, 0, 0, 0, 0, 0, 0, 0, 0, 0, 0, 0, 0, 0, 0, 0,\n",
       "        0, 0, 0, 0, 0, 0],\n",
       "       [1, 1, 1, 1, 1, 1, 1, 1, 1, 1, 1, 1, 1, 1, 1, 1, 1, 1, 1, 1, 1, 1,\n",
       "        1, 1, 1, 1, 1, 0, 0, 0, 0, 0, 0, 0, 0, 0, 0, 0, 0, 0, 0, 0, 0, 0,\n",
       "        0, 0, 0, 0, 0, 0],\n",
       "       [0, 0, 1, 1, 1, 1, 1, 1, 1, 1, 1, 1, 1, 1, 1, 1, 1, 1, 1, 1, 1, 1,\n",
       "        1, 0, 0, 0, 0, 0, 0, 0, 0, 0, 0, 0, 0, 0, 0, 0, 0, 0, 0, 0, 0, 0,\n",
       "        0, 0, 0, 0, 0, 0],\n",
       "       [0, 0, 0, 0, 0, 0, 1, 1, 1, 1, 1, 1, 1, 1, 1, 1, 1, 1, 1, 1, 1, 0,\n",
       "        0, 0, 0, 0, 0, 0, 0, 0, 0, 0, 0, 0, 0, 0, 0, 0, 0, 0, 0, 0, 0, 0,\n",
       "        0, 0, 0, 0, 0, 0],\n",
       "       [0, 0, 0, 0, 0, 0, 0, 1, 1, 1, 1, 1, 1, 1, 1, 1, 1, 1, 1, 1, 0, 0,\n",
       "        0, 0, 0, 0, 0, 0, 0, 0, 0, 0, 0, 0, 0, 0, 0, 0, 0, 0, 0, 0, 0, 0,\n",
       "        0, 0, 0, 0, 0, 0],\n",
       "       [0, 0, 0, 0, 1, 1, 1, 1, 1, 1, 1, 1, 1, 1, 1, 1, 1, 1, 1, 1, 1, 1,\n",
       "        0, 0, 0, 0, 0, 0, 0, 0, 0, 0, 0, 0, 0, 0, 0, 0, 0, 0, 0, 0, 0, 0,\n",
       "        0, 0, 0, 0, 0, 0],\n",
       "       [0, 0, 0, 1, 1, 1, 1, 1, 1, 1, 1, 1, 1, 1, 1, 1, 1, 1, 1, 1, 1, 1,\n",
       "        1, 1, 1, 0, 0, 0, 0, 0, 0, 0, 0, 0, 0, 0, 0, 0, 0, 0, 0, 0, 0, 0,\n",
       "        0, 0, 0, 0, 0, 0],\n",
       "       [0, 0, 0, 0, 0, 0, 0, 0, 0, 0, 1, 1, 1, 1, 1, 1, 1, 1, 1, 1, 1, 1,\n",
       "        1, 1, 0, 0, 0, 0, 0, 0, 0, 0, 0, 0, 0, 0, 0, 0, 0, 0, 0, 0, 0, 0,\n",
       "        0, 0, 0, 0, 0, 0],\n",
       "       [0, 0, 0, 0, 0, 0, 0, 0, 1, 1, 1, 1, 1, 1, 1, 1, 1, 1, 1, 1, 1, 0,\n",
       "        0, 0, 0, 0, 0, 0, 0, 0, 0, 0, 0, 0, 0, 0, 0, 0, 0, 0, 0, 0, 0, 0,\n",
       "        0, 0, 0, 0, 0, 0]], dtype=int16)"
      ]
     },
     "execution_count": 13,
     "metadata": {},
     "output_type": "execute_result"
    }
   ],
   "source": [
    "data.loc[0,'PAD_FLAGS']\n"
   ]
  },
  {
   "cell_type": "code",
   "execution_count": 10,
   "metadata": {},
   "outputs": [
    {
     "data": {
      "text/plain": [
       "dict_keys(['node_ctrs', 'node_vecs', 'turn', 'control', 'intersect', 'left', 'right', 'lane_ctrs', 'lane_vecs', 'num_nodes', 'num_lanes', 'rel_lane_flags'])"
      ]
     },
     "execution_count": 10,
     "metadata": {},
     "output_type": "execute_result"
    }
   ],
   "source": [
    "data.loc[0,'LANE_GRAPH'].keys()\n"
   ]
  },
  {
   "cell_type": "code",
   "execution_count": 8,
   "metadata": {},
   "outputs": [
    {
     "name": "stdout",
     "output_type": "stream",
     "text": [
      "[[90 85]\n",
      " [80 90]\n",
      " [70 87]]\n",
      "0    90\n",
      "1    80\n",
      "2    70\n",
      "Name: math, dtype: int64\n",
      "0    90\n",
      "1    80\n",
      "2    70\n",
      "Name: math, dtype: int64\n",
      "[90 80 70]\n"
     ]
    }
   ],
   "source": [
    "import pandas as pd\n",
    "\n",
    "df = pd.DataFrame({'math':[90,80,70], 'chinese':[85, 90, 87]})\n",
    "print(df.values)\n",
    "df['math'].values\n",
    "print(df.loc[:,'math'])\n",
    "print(df['math'])\n",
    "print(df['math'].values)\n"
   ]
  },
  {
   "cell_type": "code",
   "execution_count": 12,
   "metadata": {},
   "outputs": [
    {
     "name": "stderr",
     "output_type": "stream",
     "text": [
      "/home/wangchen/.conda/envs/simpl/lib/python3.8/site-packages/tqdm/auto.py:21: TqdmWarning: IProgress not found. Please update jupyter and ipywidgets. See https://ipywidgets.readthedocs.io/en/stable/user_install.html\n",
      "  from .autonotebook import tqdm as notebook_tqdm\n"
     ]
    },
    {
     "data": {
      "text/plain": [
       "tensor([[[ 0,  1,  2,  3],\n",
       "         [ 4,  5,  6,  7],\n",
       "         [ 8,  9, 10, 11]]])"
      ]
     },
     "execution_count": 12,
     "metadata": {},
     "output_type": "execute_result"
    }
   ],
   "source": [
    "import torch\n",
    "torch.arange(24).view(2,3,4)[:1,:]"
   ]
  },
  {
   "cell_type": "code",
   "execution_count": null,
   "metadata": {},
   "outputs": [],
   "source": []
  },
  {
   "cell_type": "code",
   "execution_count": null,
   "metadata": {},
   "outputs": [],
   "source": []
  },
  {
   "cell_type": "code",
   "execution_count": null,
   "metadata": {},
   "outputs": [],
   "source": []
  }
 ],
 "metadata": {
  "kernelspec": {
   "display_name": "simpl",
   "language": "python",
   "name": "python3"
  },
  "language_info": {
   "codemirror_mode": {
    "name": "ipython",
    "version": 3
   },
   "file_extension": ".py",
   "mimetype": "text/x-python",
   "name": "python",
   "nbconvert_exporter": "python",
   "pygments_lexer": "ipython3",
   "version": "3.8.19"
  }
 },
 "nbformat": 4,
 "nbformat_minor": 2
}
